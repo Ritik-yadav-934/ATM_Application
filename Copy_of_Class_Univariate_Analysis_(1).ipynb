{
  "nbformat": 4,
  "nbformat_minor": 0,
  "metadata": {
    "colab": {
      "provenance": [],
      "include_colab_link": true
    },
    "kernelspec": {
      "name": "python3",
      "display_name": "Python 3"
    },
    "language_info": {
      "name": "python"
    }
  },
  "cells": [
    {
      "cell_type": "markdown",
      "metadata": {
        "id": "view-in-github",
        "colab_type": "text"
      },
      "source": [
        "<a href=\"https://colab.research.google.com/github/Ritik-yadav-934/ATM_Application/blob/main/Copy_of_Class_Univariate_Analysis_(1).ipynb\" target=\"_parent\"><img src=\"https://colab.research.google.com/assets/colab-badge.svg\" alt=\"Open In Colab\"/></a>"
      ]
    },
    {
      "cell_type": "markdown",
      "source": [
        "## Session- 3, Univariate Analysis"
      ],
      "metadata": {
        "id": "bnQSf6iOYqAu"
      }
    },
    {
      "cell_type": "code",
      "source": [
        "import numpy as np\n",
        "import pandas as pd\n",
        "import seaborn as sns\n",
        "from matplotlib import pyplot as plt"
      ],
      "metadata": {
        "id": "qjXKDiS0Yrc1"
      },
      "execution_count": null,
      "outputs": []
    },
    {
      "cell_type": "markdown",
      "metadata": {
        "id": "ry34mE8yo1Yr"
      },
      "source": [
        "Univariate analysis is the simplest form of analyzing data.\n",
        "\n",
        "\"Uni\" means \"one,\" so in other words, it means the analysis of one variable.\n",
        "\n",
        "For Numerical Data:\n",
        "\n",
        "Calculate basic statistics: mean, median, mode, range, minimum, maximum, variance, and standard deviation.\n",
        "\n",
        "Visualizing Data:\n",
        "\n",
        "Create a histogram: This shows the distribution of your data and can help identify skewness or outliers.\n",
        "\n",
        "Box plots: Useful for identifying the median, quartiles, and potential outliers.\n",
        "\n",
        "For Categorical Data:\n",
        "\n",
        "Count the frequency of each category: This involves counting how many times each category occurs in the dataset.\n",
        "\n",
        "Calculate the percentage of each category: This gives a clearer understanding of the proportion each category represents in the dataset.\n",
        "\n",
        "Visualizing Data:\n",
        "\n",
        "Create a bar chart: This displays the frequency or percentage of each category, making it easy to compare different categories.\n",
        "\n",
        "Pie charts: Suitable for showing the proportion of each category, though best used when there are few categories."
      ]
    },
    {
      "cell_type": "code",
      "source": [
        "inp1 = pd.read_csv('/content/bank_data_clean.csv')"
      ],
      "metadata": {
        "id": "kcfTLoDBZPZt"
      },
      "execution_count": null,
      "outputs": []
    },
    {
      "cell_type": "code",
      "source": [
        "print(inp1.columns)"
      ],
      "metadata": {
        "id": "Bj7wGmKzn3hO",
        "colab": {
          "base_uri": "https://localhost:8080/"
        },
        "outputId": "691f296d-59c0-4b3e-a07a-50934ec8861b"
      },
      "execution_count": null,
      "outputs": [
        {
          "output_type": "stream",
          "name": "stdout",
          "text": [
            "Index(['age', 'salary', 'balance', 'marital', 'targeted', 'default', 'housing',\n",
            "       'loan', 'contact', 'day', 'month', 'duration', 'campaign', 'pdays',\n",
            "       'previous', 'poutcome', 'response', 'job', 'education'],\n",
            "      dtype='object')\n"
          ]
        }
      ]
    },
    {
      "cell_type": "markdown",
      "source": [
        "### Segment- 1, Continuous univariate analysis"
      ],
      "metadata": {
        "id": "Ae_o4LsGqIZ_"
      }
    },
    {
      "cell_type": "markdown",
      "source": [
        "####Age\n",
        "\n",
        "If we start off, the very 1st column happen to be `age` which is invariably continuous.\n",
        "\n",
        "So let's do some analysis on `age`."
      ],
      "metadata": {
        "id": "VWL26wdWqs5U"
      }
    },
    {
      "cell_type": "code",
      "execution_count": null,
      "metadata": {
        "id": "cHB59KZzo1Yo",
        "colab": {
          "base_uri": "https://localhost:8080/"
        },
        "outputId": "b66a457a-ebee-42dd-e97b-2b427eb280cf"
      },
      "outputs": [
        {
          "output_type": "execute_result",
          "data": {
            "text/plain": [
              "count    45161.000000\n",
              "mean        40.935763\n",
              "std         10.618790\n",
              "min         18.000000\n",
              "25%         33.000000\n",
              "50%         39.000000\n",
              "75%         48.000000\n",
              "max         95.000000\n",
              "Name: age, dtype: float64"
            ]
          },
          "metadata": {},
          "execution_count": 22
        }
      ],
      "source": [
        "# Exploring age column\n",
        "\n",
        "inp1.age.describe()"
      ]
    },
    {
      "cell_type": "markdown",
      "source": [
        "Data Visualization for better insights"
      ],
      "metadata": {
        "id": "HRAAdbTvuH5n"
      }
    },
    {
      "cell_type": "code",
      "execution_count": null,
      "metadata": {
        "id": "D61_wSgko1Yo",
        "colab": {
          "base_uri": "https://localhost:8080/",
          "height": 353
        },
        "outputId": "4a35a6b4-cae9-4677-dc33-4af5d9864609"
      },
      "outputs": [
        {
          "output_type": "display_data",
          "data": {
            "text/plain": [
              "<Figure size 1000x400 with 1 Axes>"
            ],
            "image/png": "[encoded data removed]"
          },
          "metadata": {}
        }
      ],
      "source": [
        "plt.figure(figsize=[10, 4])\n",
        "\n",
        "sns.histplot(inp1.age, binwidth=10)\n",
        "\n",
        "plt.show()"
      ]
    },
    {
      "cell_type": "markdown",
      "source": [
        "Box plot visualization to understand data distribution\n"
      ],
      "metadata": {
        "id": "IaIsY5vYuPWD"
      }
    },
    {
      "cell_type": "code",
      "execution_count": null,
      "metadata": {
        "id": "epJgYZ4Vo1Yo",
        "colab": {
          "base_uri": "https://localhost:8080/",
          "height": 449
        },
        "outputId": "e752b8c4-d98c-4187-c9b3-d73e7c2b64eb"
      },
      "outputs": [
        {
          "output_type": "display_data",
          "data": {
            "text/plain": [
              "<Figure size 640x480 with 1 Axes>"
            ],
            "image/png": "[encoded data removed]"
          },
          "metadata": {}
        }
      ],
      "source": [
        "# Generating plots for data visualization.\n",
        "\n",
        "sns.boxplot(x = inp1.age)\n",
        "\n",
        "plt.show()"
      ]
    },
    {
      "cell_type": "markdown",
      "source": [
        "Based on data distribution we don't see abnormaly high or un-realistic values, hence we can move on to other variables."
      ],
      "metadata": {
        "id": "hkCbqPm_2buS"
      }
    },
    {
      "cell_type": "code",
      "source": [],
      "metadata": {
        "id": "CEKk5v-idCcG"
      },
      "execution_count": null,
      "outputs": []
    },
    {
      "cell_type": "markdown",
      "metadata": {
        "id": "SEnbT_D-o1Ys"
      },
      "source": [
        "### Segment- 2, Categorical unordered univariate analysis"
      ]
    },
    {
      "cell_type": "markdown",
      "source": [
        "Categorical unordered univariate analysis involves examining the distribution of a single categorical variable that has no inherent order.\n",
        "\n",
        "This type of analysis helps to understand the frequency distribution of different categories within the variable.\n",
        "\n",
        "Here's how you can perform categorical unordered univariate analysis in Python."
      ],
      "metadata": {
        "id": "Q3bk5NdQscaO"
      }
    },
    {
      "cell_type": "markdown",
      "metadata": {
        "id": "W5eNsQDHo1Ys"
      },
      "source": [
        "#### Marital status"
      ]
    },
    {
      "cell_type": "code",
      "execution_count": null,
      "metadata": {
        "id": "5SG_9DCZo1Ys",
        "colab": {
          "base_uri": "https://localhost:8080/"
        },
        "outputId": "040b73ca-8fea-4eb5-fbb2-1ed00c49944e"
      },
      "outputs": [
        {
          "output_type": "execute_result",
          "data": {
            "text/plain": [
              "married     0.601957\n",
              "single      0.282943\n",
              "divorced    0.115099\n",
              "Name: marital, dtype: float64"
            ]
          },
          "metadata": {},
          "execution_count": 26
        }
      ],
      "source": [
        "# General data manipulation or analysis operation\n",
        "\n",
        "inp1.marital.value_counts(normalize= True)"
      ]
    },
    {
      "cell_type": "markdown",
      "source": [
        "Data Visualization:\n",
        "- This section involves creating plots and charts to visually explore the data.\n",
        "- Visualizations help to identify patterns, anomalies, or relationships within the data.\n"
      ],
      "metadata": {
        "id": "4jGyACMjuY0y"
      }
    },
    {
      "cell_type": "code",
      "execution_count": null,
      "metadata": {
        "id": "hcqyJGHxo1Ys",
        "colab": {
          "base_uri": "https://localhost:8080/",
          "height": 430
        },
        "outputId": "7b9d5bb6-a9c7-4ac1-9e6f-ef7b21fe6b89"
      },
      "outputs": [
        {
          "output_type": "display_data",
          "data": {
            "text/plain": [
              "<Figure size 640x480 with 1 Axes>"
            ],
            "image/png": "[encoded data removed]"
          },
          "metadata": {}
        }
      ],
      "source": [
        "# Generating plots for data visualization.\n",
        "\n",
        "sns.barplot(inp1.marital.value_counts(normalize= True))\n",
        "\n",
        "plt.show()"
      ]
    },
    {
      "cell_type": "markdown",
      "source": [
        "Let's see a variable with several categories."
      ],
      "metadata": {
        "id": "vobyvaYTsm8F"
      }
    },
    {
      "cell_type": "markdown",
      "metadata": {
        "id": "hnxU4GWGo1Ys"
      },
      "source": [
        "#### Job  "
      ]
    },
    {
      "cell_type": "code",
      "execution_count": null,
      "metadata": {
        "id": "0CtOQ6_Oo1Ys",
        "colab": {
          "base_uri": "https://localhost:8080/"
        },
        "outputId": "ae917b19-f5bd-44bf-8998-eb865aa58e77"
      },
      "outputs": [
        {
          "output_type": "execute_result",
          "data": {
            "text/plain": [
              "blue-collar      0.215274\n",
              "management       0.209273\n",
              "technician       0.168043\n",
              "admin.           0.114369\n",
              "services         0.091849\n",
              "retired          0.050087\n",
              "self-employed    0.034853\n",
              "entrepreneur     0.032860\n",
              "unemployed       0.028830\n",
              "housemaid        0.027413\n",
              "student          0.020770\n",
              "unknown          0.006377\n",
              "Name: job, dtype: float64"
            ]
          },
          "metadata": {},
          "execution_count": 28
        }
      ],
      "source": [
        "# General data manipulation or analysis operation.\n",
        "\n",
        "inp1.job.value_counts(normalize= True)"
      ]
    },
    {
      "cell_type": "markdown",
      "source": [
        "Generating plots for data visualization"
      ],
      "metadata": {
        "id": "Jqv9wLjfukMY"
      }
    },
    {
      "cell_type": "code",
      "execution_count": null,
      "metadata": {
        "id": "Ml4EzeVPo1Yt",
        "colab": {
          "base_uri": "https://localhost:8080/",
          "height": 513
        },
        "outputId": "e08a428c-bded-4440-96c2-41ae480ab0c1"
      },
      "outputs": [
        {
          "output_type": "display_data",
          "data": {
            "text/plain": [
              "<Figure size 640x480 with 1 Axes>"
            ],
            "image/png": "[encoded data removed]"
          },
          "metadata": {}
        }
      ],
      "source": [
        "# Data Visualization:\n",
        "\n",
        "sns.barplot(inp1.job.value_counts(normalize= True))\n",
        "plt.xticks(rotation=90)\n",
        "plt.show()"
      ]
    },
    {
      "cell_type": "markdown",
      "metadata": {
        "id": "TKPUTqjao1Yt"
      },
      "source": [
        "### Segment- 3, Categorical ordered univariate analysis"
      ]
    },
    {
      "cell_type": "markdown",
      "source": [
        "Categorical ordered univariate analysis involves examining the distribution of a single categorical variable that has a natural order or hierarchy.\n",
        "\n",
        "This analysis helps in understanding the frequency distribution of different categories while considering their order.\n",
        "\n",
        "Here's how you can perform categorical ordered univariate analysis."
      ],
      "metadata": {
        "id": "kl3WJB_Ss9q1"
      }
    },
    {
      "cell_type": "markdown",
      "metadata": {
        "id": "zHTInjkBo1Yt"
      },
      "source": [
        "#### Education"
      ]
    },
    {
      "cell_type": "code",
      "execution_count": null,
      "metadata": {
        "id": "lID0tEM7o1Yt",
        "colab": {
          "base_uri": "https://localhost:8080/"
        },
        "outputId": "ed7818c7-7682-47bb-b45d-9b07b51e2ace"
      },
      "outputs": [
        {
          "output_type": "execute_result",
          "data": {
            "text/plain": [
              "secondary    0.513275\n",
              "tertiary     0.294192\n",
              "primary      0.151436\n",
              "unknown      0.041097\n",
              "Name: education, dtype: float64"
            ]
          },
          "metadata": {},
          "execution_count": 30
        }
      ],
      "source": [
        "# General data manipulation or analysis operation.\n",
        "\n",
        "inp1.education.value_counts(normalize= True)"
      ]
    },
    {
      "cell_type": "markdown",
      "source": [
        "Education in our data is perfect example of an ordered categorical variable.\n",
        "\n",
        "`primary` << `secondary` << `tertiary`\n",
        "\n",
        "`unknown` can be treated as missing values or `no education` as per business understanding."
      ],
      "metadata": {
        "id": "vo86bFNsuvYc"
      }
    },
    {
      "cell_type": "markdown",
      "source": [
        "Let's visualize these levels of education."
      ],
      "metadata": {
        "id": "meG8m-jYvswA"
      }
    },
    {
      "cell_type": "code",
      "execution_count": null,
      "metadata": {
        "id": "QX51rBB4o1Yt",
        "colab": {
          "base_uri": "https://localhost:8080/",
          "height": 406
        },
        "outputId": "8a4e0cb4-746a-417c-e743-f990762d3bfa"
      },
      "outputs": [
        {
          "output_type": "display_data",
          "data": {
            "text/plain": [
              "<Figure size 640x480 with 1 Axes>"
            ],
            "image/png": "[encoded data removed]"
          },
          "metadata": {}
        }
      ],
      "source": [
        "# Generating plots for data visualization.\n",
        "\n",
        "inp1.education.value_counts(normalize= True).plot.pie()\n",
        "\n",
        "plt.show()"
      ]
    },
    {
      "cell_type": "code",
      "source": [
        "sns.countplot(x = inp1['education'])\n",
        "\n",
        "plt.show()"
      ],
      "metadata": {
        "colab": {
          "base_uri": "https://localhost:8080/",
          "height": 449
        },
        "id": "LFWsbkGhktCC",
        "outputId": "b7078ba3-6fd2-4379-e37b-c6c0473cfc5f"
      },
      "execution_count": null,
      "outputs": [
        {
          "output_type": "display_data",
          "data": {
            "text/plain": [
              "<Figure size 640x480 with 1 Axes>"
            ],
            "image/png": "[encoded data removed]"
          },
          "metadata": {}
        }
      ]
    },
    {
      "cell_type": "markdown",
      "metadata": {
        "id": "2wxQkLVvo1Yu"
      },
      "source": [
        "### Segment- 4, Target Variable Univariate Analysis"
      ]
    },
    {
      "cell_type": "markdown",
      "metadata": {
        "id": "-1txD9MBo1Yu"
      },
      "source": [
        "The target variable is typically the variable of interest in a predictive modeling or statistical analysis.\n",
        "\n",
        "It refers to the variable that you are trying to predict or understand based on other variables in the dataset.\n",
        "\n",
        "It is also commonly known as the \"dependent variable\".\n",
        "\n",
        "For example:\n",
        "\n",
        "In a regression analysis predicting house prices, the target variable would be the price of the house.\n",
        "\n",
        "based on other features like the number of bedrooms, square footage, location, etc.\n",
        "\n",
        "Identifying the target variable is crucial because it defines the goal of the analysis.\n",
        "\n",
        "In our task at hand, variable of interest can be the `response` column i.e. whether the prospect responded or not to our campaign."
      ]
    },
    {
      "cell_type": "code",
      "execution_count": null,
      "metadata": {
        "id": "8i8TrgyUo1Yu",
        "colab": {
          "base_uri": "https://localhost:8080/"
        },
        "outputId": "edd15927-a704-48b0-fb65-d7622c8c2233"
      },
      "outputs": [
        {
          "output_type": "execute_result",
          "data": {
            "text/plain": [
              "no     0.882974\n",
              "yes    0.117026\n",
              "Name: response, dtype: float64"
            ]
          },
          "metadata": {},
          "execution_count": 33
        }
      ],
      "source": [
        "# General data manipulation or analysis operation.\n",
        "# General data manipulation or analysis operation.\n",
        "\n",
        "inp1.response.value_counts(normalize= True)"
      ]
    },
    {
      "cell_type": "code",
      "execution_count": null,
      "metadata": {
        "id": "T64vY9Ldo1Yu",
        "colab": {
          "base_uri": "https://localhost:8080/",
          "height": 440
        },
        "outputId": "db774057-a838-4f0b-94b9-bbba8529b493"
      },
      "outputs": [
        {
          "output_type": "display_data",
          "data": {
            "text/plain": [
              "<Figure size 640x480 with 1 Axes>"
            ],
            "image/png": "[encoded data removed]"
          },
          "metadata": {}
        }
      ],
      "source": [
        "# Data Visualization:\n",
        "# - This section involves creating plots and charts to visually explore the data.\n",
        "# - Visualizations help to identify patterns, anomalies, or relationships within the data.\n",
        "# - `matplotlib` and `seaborn` are powerful libraries for creating a wide range of static, animated, and interactive visualizations.\n",
        "# Generating plots for data visualization.\n",
        "inp1.response.value_counts(normalize= True).plot.bar()\n",
        "plt.show()"
      ]
    },
    {
      "cell_type": "code",
      "source": [],
      "metadata": {
        "id": "h5rpqyEKnix2"
      },
      "execution_count": null,
      "outputs": []
    }
  ]
}